{
  "cells": [
    {
      "cell_type": "markdown",
      "id": "0fd75ab4-1ea8-40d6-b52c-99bee57053ca",
      "metadata": {
        "id": "0fd75ab4-1ea8-40d6-b52c-99bee57053ca"
      },
      "source": [
        "# CNN - Project"
      ]
    },
    {
      "cell_type": "markdown",
      "id": "93fd012e-8a91-4a27-a43a-27712e705e4f",
      "metadata": {
        "id": "93fd012e-8a91-4a27-a43a-27712e705e4f"
      },
      "source": [
        "## Student Identity"
      ]
    },
    {
      "cell_type": "code",
      "execution_count": null,
      "id": "7121cf4d-5979-4c79-bf6d-4ac19fd4d032",
      "metadata": {
        "id": "7121cf4d-5979-4c79-bf6d-4ac19fd4d032"
      },
      "outputs": [],
      "source": [
        "# @title #### Student Identity\n",
        "student_id = \"\" # @param {type:\"string\"}\n",
        "name = \"\" # @param {type:\"string\"}\n",
        "drive_link = \"\"  # @param {type:\"string\"}\n",
        "\n",
        "assignment_id = \"00_cnn_project\""
      ]
    },
    {
      "cell_type": "markdown",
      "id": "66c6ca1f-9235-4ced-ab8a-84781febcfa6",
      "metadata": {
        "id": "66c6ca1f-9235-4ced-ab8a-84781febcfa6"
      },
      "source": [
        "## Import Package"
      ]
    },
    {
      "cell_type": "code",
      "execution_count": null,
      "id": "ce231d87-1657-4f85-a0c9-7ad8aac6e088",
      "metadata": {
        "id": "ce231d87-1657-4f85-a0c9-7ad8aac6e088"
      },
      "outputs": [],
      "source": [
        "!pip install rggrader\n",
        "from rggrader import submit, submit_image"
      ]
    },
    {
      "cell_type": "markdown",
      "id": "194d8da1-20e4-4b61-b508-8e34c682a480",
      "metadata": {
        "id": "194d8da1-20e4-4b61-b508-8e34c682a480"
      },
      "source": [
        "## Project Description\n",
        "\n",
        "In this CNN Project, you will create your own custom Image Classification. You can collect a dataset of images you are interested in and train a CNN model to differentiate between them. For example, a model could be trained to distinguish between different types of birds, cars, plants, or any other topic of interest."
      ]
    },
    {
      "cell_type": "code",
      "execution_count": null,
      "id": "9dad0abc-34ef-44db-9a88-32d9d8ab2fbe",
      "metadata": {
        "id": "9dad0abc-34ef-44db-9a88-32d9d8ab2fbe"
      },
      "outputs": [],
      "source": [
        "#Write any package/module installation that you need here\n",
        "\n"
      ]
    },
    {
      "cell_type": "markdown",
      "id": "bc07a2ba-cefc-425f-b86e-2f554b98bd4f",
      "metadata": {
        "id": "bc07a2ba-cefc-425f-b86e-2f554b98bd4f"
      },
      "source": [
        "## Task-1 Load the dataset\n",
        "\n",
        "In this task, you will prepare and load your dataset. **You can choose any dataset you want**, make sure the data is diverse and large enough to prevent overfitting and improve the model's ability to generalize.\n",
        "\n",
        "If you are using images from the internet, **please respect copyright and privacy laws**. Creative Commons licenses or public domain images are a safe bet, and many APIs (like the Unsplash API) provide access to a large number of such images."
      ]
    },
    {
      "cell_type": "markdown",
      "id": "26150053-ddb0-447a-8def-efab3f75d336",
      "metadata": {
        "id": "26150053-ddb0-447a-8def-efab3f75d336"
      },
      "source": [
        "### 1.1 Optional Custom Dataset\n",
        "Provided below is a custom dataset template that you may want to use for your code. It's completely optional.\n",
        "\n",
        "Alternatively, you can review the material on Data Augmentation or read the Pytorch tutorial https://pytorch.org/tutorials/beginner/basics/data_tutorial.html#creating-a-custom-dataset-for-your-files"
      ]
    },
    {
      "cell_type": "code",
      "execution_count": null,
      "id": "c598c9e0-31fe-4c13-956b-49c0033a39e0",
      "metadata": {
        "id": "c598c9e0-31fe-4c13-956b-49c0033a39e0"
      },
      "outputs": [],
      "source": [
        "#an example of creating our own custom dataset, you can use this if you want/need. Completely optional.\n",
        "import os\n",
        "import pandas as pd\n",
        "from torchvision.io import read_image\n",
        "\n",
        "class CustomImageDataset(Dataset):\n",
        "    def __init__(self, annotations_file, img_dir, transform=None, target_transform=None):\n",
        "        self.img_labels = pd.read_csv(annotations_file)\n",
        "        self.img_dir = img_dir\n",
        "        self.transform = transform\n",
        "        self.target_transform = target_transform\n",
        "\n",
        "    def __len__(self):\n",
        "        return len(self.img_labels)\n",
        "\n",
        "    def __getitem__(self, idx):\n",
        "        img_path = os.path.join(self.img_dir, self.img_labels.iloc[idx, 0])\n",
        "        image = read_image(img_path)\n",
        "        label = self.img_labels.iloc[idx, 1]\n",
        "        if self.transform:\n",
        "            image = self.transform(image)\n",
        "        if self.target_transform:\n",
        "            label = self.target_transform(label)\n",
        "        return image, label"
      ]
    },
    {
      "cell_type": "markdown",
      "id": "0abe9d36-5f0f-4e71-a24d-c5acea2c3735",
      "metadata": {
        "id": "0abe9d36-5f0f-4e71-a24d-c5acea2c3735"
      },
      "source": [
        "### 1.2 Write your code in the block below\n",
        "\n",
        "In the code block below, prepare and load your dataset. Please include data preprocessing steps such as dividing the dataset into training, validation, and test sets, or data augmentation techniques that you used if any in this section. Do not put the code to build your model here.\n",
        "\n",
        "Some techniques you may use:\n",
        "- Find and load existing dataset from Huggingface or Kaggle. (Easy)\n",
        "- Create your own custom dataset from the images you have in your possesion or internet search and load the dataset. (Hard)\n",
        "- Etc.\n",
        "\n",
        "Hint:\n",
        "- Usually the dataset are loaded into train_dataset and test_dataset"
      ]
    },
    {
      "cell_type": "code",
      "execution_count": null,
      "id": "ae0e5132-222b-4069-8c67-567b3c71363c",
      "metadata": {
        "id": "ae0e5132-222b-4069-8c67-567b3c71363c"
      },
      "outputs": [],
      "source": [
        "# Write your data preprocessing code here\n",
        "\n"
      ]
    },
    {
      "cell_type": "markdown",
      "id": "4cc33ddd-a526-4684-a4ba-4ccd423d643a",
      "metadata": {
        "id": "4cc33ddd-a526-4684-a4ba-4ccd423d643a"
      },
      "source": [
        "### 1.3 Submission\n",
        "\n",
        "You'll submit the link to your dataset for Task-1.\n",
        "\n",
        "- If you use existing dataset from Kaggle or Huggingface, then you can put the link to those dataset here.\n",
        "\n",
        "- If you use your own custom dataset, Upload and store the custom dataset in your Google Drive that you shared with us and put the link to the folder containing that dataset here."
      ]
    },
    {
      "cell_type": "code",
      "execution_count": null,
      "id": "bd11320b-2560-4389-a128-613e28f9b8d5",
      "metadata": {
        "id": "bd11320b-2560-4389-a128-613e28f9b8d5"
      },
      "outputs": [],
      "source": [
        "# Submit Method\n",
        "dataset_link = \"\" # Put your model link\n",
        "\n",
        "question_id = \"00_cnn_project_dataset\"\n",
        "submit(student_id, name, assignment_id, dataset_link, question_id, drive_link)"
      ]
    },
    {
      "cell_type": "markdown",
      "id": "be3e5a65-0562-408a-9b9d-738e8efd825e",
      "metadata": {
        "id": "be3e5a65-0562-408a-9b9d-738e8efd825e"
      },
      "source": [
        "## Task-2 Build your model\n",
        "\n",
        "In this task, you will now build and save your model. You can either create your own CNN model or choose any pretrained model that you feel is most appropriate for your dataset."
      ]
    },
    {
      "cell_type": "markdown",
      "id": "c9aad4e3",
      "metadata": {},
      "source": [
        "### 2.1 Write your code in the block below\n",
        "\n",
        "In the code block below, write the code to **create your model, either from scratch or fine tuning a pretrained model**. You will need to write the code for your model definition, such as the layers used, loss function and optimizer. Please include also the training and validation loops.\n",
        "\n",
        "Make sure you **save your model to a file** and **measure the accuracy of your model**, as this will be submitted for this task.\n",
        "\n",
        "Some techniques you may use:\n",
        "- Use pretrained model. (Easy)\n",
        "- Create a CNN model from scratch. (Hard)\n",
        "- Etc.\n",
        "\n",
        "Hint:\n",
        "- Use GPU in Google Colab, it significantly improves the time taken for training, compared to CPU.\n",
        "- **Google Colab GPU usage for free-tier have a limit**, which is unknown, so I suggest you try out in CPU mode that your code works without error, then use GPU for traininig.\n",
        "- If you are going to upload to Huggingface by using the Transformer Trainer during training, make sure you use the Huggingface method. Refer to Transfer Learning section or read the documentation here: https://huggingface.co/docs/transformers/model_sharing"
      ]
    },
    {
      "cell_type": "code",
      "execution_count": null,
      "id": "fa2ec9d0-da97-499a-91ce-d689321207cd",
      "metadata": {
        "id": "fa2ec9d0-da97-499a-91ce-d689321207cd"
      },
      "outputs": [],
      "source": [
        "#Write your code to build your model here\n",
        "\n",
        "accuracy = 0 #if you change the name of your accuracy variable, change the name also in the submit parameter\n",
        "\n"
      ]
    },
    {
      "cell_type": "markdown",
      "id": "8b242f0b-4b30-4b08-a310-b5005e120eb8",
      "metadata": {
        "id": "8b242f0b-4b30-4b08-a310-b5005e120eb8"
      },
      "source": [
        "### 2.2 Submission\n",
        "\n",
        "You'll submit the link to your model and the accuracy score for your model in this section.\n",
        "\n",
        "Remember to download or move/upload your model from Google Colab to your Google Drive. Put the link to the Google Drive for your model below.\n",
        "\n",
        "If you use a different variable to store your accuracy, remember to also change the `accuracy` variable below."
      ]
    },
    {
      "cell_type": "code",
      "execution_count": null,
      "id": "2e4d6774-0c27-48ec-abcc-ba9747ad1dc0",
      "metadata": {
        "id": "2e4d6774-0c27-48ec-abcc-ba9747ad1dc0"
      },
      "outputs": [],
      "source": [
        "# Submit Method\n",
        "model_link = \"\" # Put your model link\n",
        "\n",
        "question_id = \"01_cnn_project_model_link\"\n",
        "submit(student_id, name, assignment_id, model_link, question_id, drive_link)\n",
        "question_id = \"02_cnn_project_model_accuracy\"\n",
        "submit(student_id, name, assignment_id, str(accuracy), question_id, drive_link)"
      ]
    },
    {
      "cell_type": "markdown",
      "id": "156bff33-3226-4366-8ea0-df0b788f9861",
      "metadata": {
        "id": "156bff33-3226-4366-8ea0-df0b788f9861"
      },
      "source": [
        "## Task-3 Model Inference\n",
        "\n",
        "In this task, you will be exercising the application of your model, or as it's commonly referred to in AI terminology, you will be performing inference using your model.\n",
        "\n",
        "Simply load your saved model from Task-2 and create an inference for the model. Where you'll feed an image as input and the model will output the label as well as the percentage of confidence for the label."
      ]
    },
    {
      "cell_type": "markdown",
      "id": "cd2313b4-c6f6-4305-be72-f21cdf531132",
      "metadata": {
        "id": "cd2313b4-c6f6-4305-be72-f21cdf531132"
      },
      "source": [
        "### 3.1 Write your code in the block below\n",
        "\n",
        "In the code block below write the code to use the model you created in Task-2. Load the model and input image, afterwards, show the result of the label/class together with confidence level in percentage as well as the input image."
      ]
    },
    {
      "cell_type": "code",
      "execution_count": null,
      "id": "c9120366-86dc-4314-ba9d-66f60ae5a884",
      "metadata": {
        "id": "c9120366-86dc-4314-ba9d-66f60ae5a884"
      },
      "outputs": [],
      "source": [
        "#Write your code for inference here\n",
        "\n"
      ]
    },
    {
      "cell_type": "markdown",
      "id": "2c39805e-a94c-4470-af4e-7669ff33f84f",
      "metadata": {
        "id": "2c39805e-a94c-4470-af4e-7669ff33f84f"
      },
      "source": [
        "### 3.2 Submission\n",
        "\n",
        "You'll submit a screenshot of your inference in this section. Remember to save the screenshot first before submitting it.\n",
        "\n",
        "Hint:\n",
        "\n",
        "![Upload colab](https://storage.googleapis.com/rg-ai-bootcamp/project-3-pipeline-and-gradio/upload-colab.png)\n",
        "\n",
        "- In Google Colab you can just use the \"Folder\" sidebar and click the upload button. Make sure your screenshot match below requirements:\n",
        "\n",
        "    - Image name screenshot is `submission.jpg`. If you change the name of the screenshot  file, change it also in the submit_image parameter.\n",
        "    - The input image and label as well as percentage of confidence should be included in the screenshot\n",
        "\n",
        "Here is an example of a correct screenshot:\n",
        "\n",
        "![Screenshot submission sammple - hummer](https://storage.googleapis.com/rg-ai-bootcamp/projects/project-5-cnn-hummer.png)"
      ]
    },
    {
      "cell_type": "code",
      "execution_count": null,
      "id": "7f621399-107e-494f-8c6f-9a79f4978d5d",
      "metadata": {
        "id": "7f621399-107e-494f-8c6f-9a79f4978d5d"
      },
      "outputs": [],
      "source": [
        "# Submit Method\n",
        "\n",
        "question_id = \"03_cnn_project_inference\"\n",
        "submit_image(student_id, question_id, './submission.jpg')"
      ]
    },
    {
      "cell_type": "markdown",
      "id": "2a021cd5-9c96-48d9-834d-18d37ba76824",
      "metadata": {
        "id": "2a021cd5-9c96-48d9-834d-18d37ba76824"
      },
      "source": [
        "## Task-4 Model Publishing\n",
        "\n",
        "In this task, you will push your model to Huggingface. Once you've pushed your model to the Hugging Face Model Hub, you'll have a link that points directly to your model's page. You can share this link with others, and they can use it to directly load your model for their own uses."
      ]
    },
    {
      "cell_type": "markdown",
      "id": "f9cbd245-e9f7-4fdb-bc2c-1ca8c63af516",
      "metadata": {
        "id": "f9cbd245-e9f7-4fdb-bc2c-1ca8c63af516"
      },
      "source": [
        "### 4.1 Write your code in the block below\n",
        "\n",
        "In the code block below, write the code to push your model to Huggingface. There are several methods to do this, please refer to the documentation: https://huggingface.co/docs/transformers/model_sharing\n",
        "\n",
        "Some techniques you may use:\n",
        "- If you use the Transformer Trainer during the training loop when you create your model above, then you can simply put your `trainer.push_to_hub()` here.\n",
        "- You can also use the web interface on Huggingface.\n",
        "\n",
        "Hint:\n",
        "- Remember to login first to your Huggingface account.\n",
        "- If you are pushing programmaticaly, then use the huggingface-cli to login."
      ]
    },
    {
      "cell_type": "code",
      "execution_count": null,
      "id": "ca04df60-d131-4108-88ae-18c253cfa1ba",
      "metadata": {
        "id": "ca04df60-d131-4108-88ae-18c253cfa1ba"
      },
      "outputs": [],
      "source": [
        "#Write your code for publishing here\n",
        "\n"
      ]
    },
    {
      "cell_type": "markdown",
      "id": "e8dc66c0-2b13-46c0-9be6-2835917df550",
      "metadata": {
        "id": "e8dc66c0-2b13-46c0-9be6-2835917df550"
      },
      "source": [
        "### 4.2 Submission\n",
        "\n",
        "You'll submit a a link to your huggingface model in this section.\n",
        "\n",
        "The following link is an example of what a trained model's page looks like: https://huggingface.co/aditira/emotion_classification. This is not your model, but rather an example of what your final result might resemble.\n",
        "\n",
        "Remember, for this project you should push your output model to your own Hugging Face account. The link for your model will be different and should reflect your own username and model name."
      ]
    },
    {
      "cell_type": "code",
      "execution_count": null,
      "id": "51d45a76-e657-4eb9-bdc4-9526fac166e9",
      "metadata": {
        "id": "51d45a76-e657-4eb9-bdc4-9526fac166e9"
      },
      "outputs": [],
      "source": [
        "# Submit Method\n",
        "huggingface_model_link = \"https://huggingface.co/EunoiaWiira/eunoiawiira-vgg-realwaste-classification\" # Put your model link\n",
        "\n",
        "question_id = \"04_cnn_project_publish\"\n",
        "submit(student_id, name, assignment_id, huggingface_model_link, question_id, drive_link)"
      ]
    },
    {
      "cell_type": "markdown",
      "id": "aea843c0-2811-416f-af2d-a4e46a65a11a",
      "metadata": {
        "id": "aea843c0-2811-416f-af2d-a4e46a65a11a"
      },
      "source": [
        "FIN"
      ]
    }
  ],
  "metadata": {
    "colab": {
      "provenance": []
    },
    "kernelspec": {
      "display_name": "Python 3 (ipykernel)",
      "language": "python",
      "name": "python3"
    },
    "language_info": {
      "codemirror_mode": {
        "name": "ipython",
        "version": 3
      },
      "file_extension": ".py",
      "mimetype": "text/x-python",
      "name": "python",
      "nbconvert_exporter": "python",
      "pygments_lexer": "ipython3",
      "version": "3.11.3"
    }
  },
  "nbformat": 4,
  "nbformat_minor": 5
}
